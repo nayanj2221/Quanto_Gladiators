{
 "cells": [
  {
   "cell_type": "code",
   "execution_count": null,
   "id": "9785ebd5-8934-49d4-9786-d99f5fd6eac6",
   "metadata": {},
   "outputs": [],
   "source": [
    "pip install qiskit qiskit_ibm_runtime qiskit_aer\n"
   ]
  },
  {
   "cell_type": "code",
   "execution_count": 41,
   "id": "4187337e",
   "metadata": {},
   "outputs": [],
   "source": [
    "import qiskit"
   ]
  },
  {
   "cell_type": "code",
   "execution_count": 42,
   "id": "6a2bce40",
   "metadata": {},
   "outputs": [
    {
     "name": "stdout",
     "output_type": "stream",
     "text": [
      "2.1.1\n"
     ]
    }
   ],
   "source": [
    "import qiskit\n",
    "print(qiskit.__version__)  # 2.0.2"
   ]
  },
  {
   "cell_type": "code",
   "execution_count": null,
   "id": "1b0fdea1",
   "metadata": {},
   "outputs": [],
   "source": [
    "from qiskit_ibm_runtime import QiskitRuntimeService\n",
    "\n",
    "# Paste your API key and CRN here\n",
    "your_api_key = \"paste_your_api_key_here\"\n",
    "your_crn = \"paste_your_crn_here\"   # CRN example: 'ibm-q/open/main' or your assigned CRN\n",
    "\n",
    "# Save your IBM Quantum Platform account (new upgraded system)\n",
    "QiskitRuntimeService.save_account(\n",
    "    channel=\"ibm_quantum_platform\",\n",
    "    token=your_api_key,\n",
    "    instance=your_crn,\n",
    "    name=\"name_of_your_account\",    # You can change this label if needed\n",
    "    overwrite=True\n",
    ")\n",
    "from qiskit_ibm_runtime import QiskitRuntimeService\n",
    "\n",
    "service = QiskitRuntimeService(name=\"name_of_your_account\") # Use the name you set when saving your account\n",
    "  # Avoids full backend listing\n",
    "service.saved_accounts()\n"
   ]
  },
  {
   "cell_type": "code",
   "execution_count": null,
   "id": "870f80f7",
   "metadata": {},
   "outputs": [],
   "source": [
    "from qiskit_ibm_runtime import QiskitRuntimeService\n",
    "\n",
    "service = QiskitRuntimeService(name=\"name_of_your_account\")  # Use the name you set when saving your account\n",
    "\n",
    "# List available backends\n",
    "backends = service.backends()\n",
    "print(\"Available backends in your CRN:\")\n",
    "for backend in backends:\n",
    "    print(backend.name)\n",
    "\n"
   ]
  },
  {
   "cell_type": "code",
   "execution_count": null,
   "id": "d81bc503-22d2-488d-8914-bae45f6217f6",
   "metadata": {},
   "outputs": [],
   "source": [
    "!pip install pylatexenc\n"
   ]
  },
  {
   "cell_type": "code",
   "execution_count": null,
   "id": "62da6e98-0887-474a-a35d-af3bff1ce579",
   "metadata": {},
   "outputs": [
    {
     "name": "stdout",
     "output_type": "stream",
     "text": [
      "Running Task 4 for 5 layers...\n",
      "Saved: ./results/noise/noisy_biased_galton_box_5_layers.png\n",
      "Running Task 4 for 10 layers...\n",
      "Saved: ./results/noise/noisy_biased_galton_box_10_layers.png\n",
      "Running Task 4 for 15 layers...\n",
      "Saved: ./results/noise/noisy_biased_galton_box_15_layers.png\n",
      "Running Task 4 for 20 layers...\n",
      "Saved: ./results/noise/noisy_biased_galton_box_20_layers.png\n",
      "Running Task 4 for 25 layers...\n"
     ]
    },
    {
     "name": "stderr",
     "output_type": "stream",
     "text": [
      "/tmp/ipykernel_12381/4097517265.py:82: UserWarning: Tight layout not applied. The bottom and top margins cannot be made large enough to accommodate all Axes decorations.\n",
      "  plt.tight_layout()\n"
     ]
    },
    {
     "name": "stdout",
     "output_type": "stream",
     "text": [
      "Saved: ./results/noise/noisy_biased_galton_box_25_layers.png\n"
     ]
    }
   ],
   "source": [
    "# Run a noisy biased Galton box simulation using Qiskit\n",
    "# This code simulates a biased Galton box circuit with noise using Qiskit Aer and IBM Quantum backends.\n",
    "from qiskit import QuantumCircuit, transpile\n",
    "from qiskit_aer import AerSimulator\n",
    "from qiskit_aer.noise import NoiseModel\n",
    "from qiskit_ibm_runtime import QiskitRuntimeService\n",
    "from qiskit.visualization import circuit_drawer\n",
    "\n",
    "import numpy as np\n",
    "import matplotlib.pyplot as plt\n",
    "from collections import Counter\n",
    "import os\n",
    "\n",
    "# Load IBM Quantum Platform account\n",
    "service = QiskitRuntimeService(name=\"qgss-2025\")\n",
    "backend = service.backend('ibm_brisbane')  # Change backend if needed\n",
    "noise_model = NoiseModel.from_backend(backend)\n",
    "\n",
    "# Parameters\n",
    "layers_list = [5, 10, 15, 20, 25]\n",
    "theta = np.pi / 6\n",
    "shots = 10000\n",
    "output_folder = './results/noise'\n",
    "os.makedirs(output_folder, exist_ok=True)\n",
    "\n",
    "def run_biased_galton_box(n_layers, theta):\n",
    "    qc = QuantumCircuit(n_layers, n_layers)\n",
    "    for i in range(n_layers):\n",
    "        qc.ry(2 * theta, i)\n",
    "    qc.measure(range(n_layers), range(n_layers))\n",
    "    return qc\n",
    "\n",
    "def counts_to_probs(counts, n_layers):\n",
    "    total = sum(counts.values())\n",
    "    counts_right = Counter()\n",
    "    for bitstring, freq in counts.items():\n",
    "        num_right = bitstring.count('1')\n",
    "        counts_right[num_right] += freq\n",
    "    return np.array([counts_right.get(i, 0)/total for i in range(n_layers+1)])\n",
    "\n",
    "for n_layers in layers_list:\n",
    "    print(f\"Running Task 4 for {n_layers} layers...\")\n",
    "\n",
    "    qc = run_biased_galton_box(n_layers, theta)\n",
    "\n",
    "    ideal_sim = AerSimulator()\n",
    "    noisy_sim = AerSimulator(noise_model=noise_model)\n",
    "\n",
    "    qc_ideal = transpile(qc, ideal_sim)\n",
    "    qc_noisy = transpile(qc, noisy_sim)\n",
    "\n",
    "    result_ideal = ideal_sim.run(qc_ideal, shots=shots).result()\n",
    "    result_noisy = noisy_sim.run(qc_noisy, shots=shots).result()\n",
    "\n",
    "    counts_ideal = result_ideal.get_counts()\n",
    "    counts_noisy = result_noisy.get_counts()\n",
    "\n",
    "    probs_ideal = counts_to_probs(counts_ideal, n_layers)\n",
    "    probs_noisy = counts_to_probs(counts_noisy, n_layers)\n",
    "    tvd = 0.5 * np.sum(np.abs(probs_ideal - probs_noisy))\n",
    "\n",
    "    fig, axs = plt.subplots(1, 3, figsize=(18, 5))\n",
    "\n",
    "    # ✅ Replaced circuit drawer with ASCII embedding\n",
    "    ascii_circuit = circuit_drawer(qc, output='text')\n",
    "    axs[0].text(0.5, 0.5, ascii_circuit, fontsize=10, family='monospace',\n",
    "                ha='center', va='center', wrap=True)\n",
    "    axs[0].axis('off')\n",
    "    axs[0].set_title(f'Circuit (ASCII): {n_layers} Layers, θ={round(theta, 2)}')\n",
    "\n",
    "    x = np.arange(0, n_layers + 1)\n",
    "    axs[1].bar(x - 0.2, probs_ideal, width=0.4, label='Ideal', color='skyblue')\n",
    "    axs[1].bar(x + 0.2, probs_noisy, width=0.4, label='Noisy', color='salmon')\n",
    "    axs[1].set_xlabel('Number of \"Right\" Moves (1\\'s)')\n",
    "    axs[1].set_ylabel('Probability')\n",
    "    axs[1].set_title('Ideal vs Noisy')\n",
    "    axs[1].legend()\n",
    "\n",
    "    axs[2].bar(x, np.abs(probs_ideal - probs_noisy), color='gray')\n",
    "    axs[2].set_xlabel('Number of \"Right\" Moves (1\\'s)')\n",
    "    axs[2].set_ylabel('Error')\n",
    "    axs[2].set_title(f'Error per Bin\\nTVD={round(tvd, 4)}')\n",
    "\n",
    "    plt.tight_layout()\n",
    "    filename = f\"{output_folder}/noisy_biased_galton_box_{n_layers}_layers.png\"\n",
    "    plt.savefig(filename, dpi=300, bbox_inches='tight')\n",
    "    plt.close()\n",
    "\n",
    "    print(f\"Saved: {filename}\")\n"
   ]
  },
  {
   "cell_type": "code",
   "execution_count": null,
   "id": "e3b46065-fcb5-41be-babd-cae309f5f01a",
   "metadata": {},
   "outputs": [],
   "source": []
  }
 ],
 "metadata": {
  "kernelspec": {
   "display_name": "Python 3 (ipykernel)",
   "language": "python",
   "name": "python3"
  },
  "language_info": {
   "codemirror_mode": {
    "name": "ipython",
    "version": 3
   },
   "file_extension": ".py",
   "mimetype": "text/x-python",
   "name": "python",
   "nbconvert_exporter": "python",
   "pygments_lexer": "ipython3",
   "version": "3.12.2"
  }
 },
 "nbformat": 4,
 "nbformat_minor": 5
}
