{
 "cells": [
  {
   "cell_type": "code",
   "execution_count": 1,
   "id": "4c445bfa",
   "metadata": {},
   "outputs": [
    {
     "data": {
      "text/plain": [
       "{'default-ibm-cloud': {'channel': 'ibm_cloud',\n",
       "  'url': 'https://cloud.ibm.com',\n",
       "  'token': 'w562J-5MW-NNn7U7nY6fDEGDo1PVG4Jr6fXceiU9sO5aw562J-5MW-NNn7U7nY6fDEGDo1PVG4Jr6fXceiU9sO5a',\n",
       "  'verify': True,\n",
       "  'private_endpoint': False},\n",
       " 'default-ibm-quantum': {'channel': 'ibm_quantum',\n",
       "  'url': 'https://auth.quantum.ibm.com/api',\n",
       "  'token': 'i9p3I9Li196K0HO92ku4d4DEpNafO6L_-kMzhYCaOHY0',\n",
       "  'verify': True,\n",
       "  'private_endpoint': False},\n",
       " 'qgss-2025': {'channel': 'ibm_quantum_platform',\n",
       "  'url': 'https://cloud.ibm.com',\n",
       "  'token': 'm4pXf0-RYR9LzNsjpeV-4mmBQWyz7zSHZABCMCeiO_rW',\n",
       "  'instance': 'crn:v1:bluemix:public:quantum-computing:us-east:a/9f4b3ecfcd974fbc81f65360c96af934:563f335d-6fcb-425e-9c2b-7e88c6b7ef08::',\n",
       "  'verify': True,\n",
       "  'private_endpoint': False}}"
      ]
     },
     "execution_count": 1,
     "metadata": {},
     "output_type": "execute_result"
    }
   ],
   "source": [
    "from qiskit_ibm_runtime import QiskitRuntimeService\n",
    "\n",
    "# Paste your API key and CRN here\n",
    "your_api_key = \"m4pXf0-RYR9LzNsjpeV-4mmBQWyz7zSHZABCMCeiO_rW\"\n",
    "your_crn = \"crn:v1:bluemix:public:quantum-computing:us-east:a/9f4b3ecfcd974fbc81f65360c96af934:563f335d-6fcb-425e-9c2b-7e88c6b7ef08::\"   # CRN example: 'ibm-q/open/main' or your assigned CRN\n",
    "\n",
    "# Save your IBM Quantum Platform account (new upgraded system)\n",
    "QiskitRuntimeService.save_account(\n",
    "    channel=\"ibm_quantum_platform\",\n",
    "    token=your_api_key,\n",
    "    instance=your_crn,\n",
    "    name=\"qgss-2025\",    # You can change this label if needed\n",
    "    overwrite=True\n",
    ")\n",
    "from qiskit_ibm_runtime import QiskitRuntimeService\n",
    "\n",
    "service = QiskitRuntimeService(name=\"qgss-2025\")\n",
    "  # Avoids full backend listing\n",
    "service.saved_accounts()\n"
   ]
  }
 ],
 "metadata": {
  "kernelspec": {
   "display_name": "qc_env",
   "language": "python",
   "name": "python3"
  },
  "language_info": {
   "codemirror_mode": {
    "name": "ipython",
    "version": 3
   },
   "file_extension": ".py",
   "mimetype": "text/x-python",
   "name": "python",
   "nbconvert_exporter": "python",
   "pygments_lexer": "ipython3",
   "version": "3.13.5"
  }
 },
 "nbformat": 4,
 "nbformat_minor": 5
}
