{
 "cells": [
  {
   "cell_type": "code",
   "execution_count": 1,
   "id": "ab6599d7",
   "metadata": {},
   "outputs": [],
   "source": [
    "import qiskit"
   ]
  },
  {
   "cell_type": "code",
   "execution_count": null,
   "id": "66243a06",
   "metadata": {},
   "outputs": [
    {
     "name": "stdout",
     "output_type": "stream",
     "text": [
      "Running Quantum Galton Box: 5 layers...\n",
      "Saved circuit + result: ./results_quantum/quantum_galton_box_5_layers.png\n",
      "Running Quantum Galton Box: 10 layers...\n",
      "Saved circuit + result: ./results_quantum/quantum_galton_box_10_layers.png\n",
      "Running Quantum Galton Box: 15 layers...\n",
      "Saved circuit + result: ./results_quantum/quantum_galton_box_15_layers.png\n",
      "Running Quantum Galton Box: 20 layers...\n",
      "Saved circuit + result: ./results_quantum/quantum_galton_box_20_layers.png\n",
      "Running Quantum Galton Box: 25 layers...\n",
      "Saved circuit + result: ./results_quantum/quantum_galton_box_25_layers.png\n"
     ]
    }
   ],
   "source": [
    "# Quantum Galton Box Simulator - All Layers in One Notebook\n",
    "# Quantum Galton Box with Circuit + Result Side by Side\n",
    "\n",
    "from qiskit import QuantumCircuit, transpile\n",
    "from qiskit_aer import AerSimulator\n",
    "from qiskit.visualization import circuit_drawer\n",
    "import matplotlib.pyplot as plt\n",
    "from scipy.stats import binom\n",
    "from collections import Counter\n",
    "import numpy as np\n",
    "import os\n",
    "\n",
    "# Layers to simulate\n",
    "layers_list = [5, 10, 15, 20, 25]\n",
    "\n",
    "# Output folder\n",
    "output_folder = './results_quantum'\n",
    "if not os.path.exists(output_folder):\n",
    "    os.makedirs(output_folder)\n",
    "\n",
    "# Function to run quantum Galton box and return circuit + counts\n",
    "def run_quantum_galton_box(n_layers, shots=10000):\n",
    "    qc = QuantumCircuit(n_layers, n_layers)\n",
    "\n",
    "    for i in range(n_layers):\n",
    "        qc.h(i)\n",
    "\n",
    "    qc.measure(range(n_layers), range(n_layers))\n",
    "\n",
    "    # Run circuit\n",
    "    simulator = AerSimulator()\n",
    "    compiled_circuit = transpile(qc, simulator)\n",
    "    job = simulator.run(compiled_circuit, shots=shots)\n",
    "    result = job.result()\n",
    "    counts = result.get_counts()\n",
    "\n",
    "    # Process counts into number of 1's\n",
    "    position_counts = Counter()\n",
    "    for bitstring, freq in counts.items():\n",
    "        num_right = bitstring.count('1')\n",
    "        position_counts[num_right] += freq\n",
    "\n",
    "    return qc, position_counts\n",
    "for n_layers in layers_list:\n",
    "    print(f\"Running Quantum Galton Box: {n_layers} layers...\")\n",
    "\n",
    "    qc, position_counts = run_quantum_galton_box(n_layers, shots=10000)\n",
    "\n",
    "    # Create figure with subplots\n",
    "    fig, axs = plt.subplots(1, 2, figsize=(14, 5))\n",
    "\n",
    "    # Left: Circuit diagram\n",
    "    circuit_drawer(qc, output='mpl', ax=axs[0])\n",
    "    axs[0].set_title(f'Quantum Circuit: {n_layers} Layers')\n",
    "\n",
    "    # Right: Histogram\n",
    "    axs[1].bar(position_counts.keys(), position_counts.values(), color='lightgreen', alpha=0.7, label='Quantum Simulation')\n",
    "    \n",
    "    # Binomial theory\n",
    "    x = np.arange(0, n_layers+1)\n",
    "    theory = binom.pmf(x, n_layers, 0.5) * 10000\n",
    "    axs[1].plot(x, theory, 'ro-', label='Binomial Theory')\n",
    "\n",
    "    axs[1].set_xlabel('Number of \"Right\" Moves')\n",
    "    axs[1].set_ylabel('Counts')\n",
    "    axs[1].set_title('Quantum Galton Box Result')\n",
    "    axs[1].legend()\n",
    "\n",
    "    plt.tight_layout()\n",
    "\n",
    "    # Save the combined figure\n",
    "    filename = f\"{output_folder}/quantum_galton_box_{n_layers}_layers.png\"\n",
    "    plt.savefig(filename)\n",
    "    plt.close()\n",
    "\n",
    "    print(f\"Saved circuit + result: {filename}\")\n",
    "# End of script"
   ]
  }
 ],
 "metadata": {
  "kernelspec": {
   "display_name": "qc_env",
   "language": "python",
   "name": "python3"
  },
  "language_info": {
   "codemirror_mode": {
    "name": "ipython",
    "version": 3
   },
   "file_extension": ".py",
   "mimetype": "text/x-python",
   "name": "python",
   "nbconvert_exporter": "python",
   "pygments_lexer": "ipython3",
   "version": "3.13.3"
  }
 },
 "nbformat": 4,
 "nbformat_minor": 5
}
