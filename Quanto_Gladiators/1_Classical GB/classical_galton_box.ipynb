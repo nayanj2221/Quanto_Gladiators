{
 "cells": [
  {
   "cell_type": "code",
   "execution_count": null,
   "id": "7ae9d773",
   "metadata": {},
   "outputs": [],
   "source": [
    "import qiskit"
   ]
  },
  {
   "cell_type": "code",
   "execution_count": 1,
   "id": "994097b7",
   "metadata": {},
   "outputs": [
    {
     "name": "stdout",
     "output_type": "stream",
     "text": [
      "Running 5 layers simulation...\n",
      "Saved plot: ./results/galton_box_5_layers.png\n",
      "Running 10 layers simulation...\n",
      "Saved plot: ./results/galton_box_10_layers.png\n",
      "Running 15 layers simulation...\n",
      "Saved plot: ./results/galton_box_15_layers.png\n",
      "Running 20 layers simulation...\n",
      "Saved plot: ./results/galton_box_20_layers.png\n",
      "Running 25 layers simulation...\n",
      "Saved plot: ./results/galton_box_25_layers.png\n"
     ]
    }
   ],
   "source": [
    "# Classical Galton Box Simulator - All Layers in One Notebook\n",
    "\n",
    "import numpy as np\n",
    "import matplotlib.pyplot as plt\n",
    "from scipy.stats import binom\n",
    "from collections import Counter\n",
    "import random\n",
    "import os\n",
    "\n",
    "# Define layers you want to run\n",
    "layers_list = [5, 10, 15, 20, 25]\n",
    "\n",
    "# Define results folder relative to current directory\n",
    "output_folder = './results'\n",
    "if not os.path.exists(output_folder):\n",
    "    os.makedirs(output_folder)\n",
    "\n",
    "# Define the Classical Galton Box Function\n",
    "def run_galton_box(n_layers, shots=10000):\n",
    "    right_moves = []\n",
    "\n",
    "    for _ in range(shots):\n",
    "        moves = [random.choice([0, 1]) for _ in range(n_layers)]\n",
    "        total_right = sum(moves)\n",
    "        right_moves.append(total_right)\n",
    "\n",
    "    return Counter(right_moves)\n",
    "\n",
    "# Run for each layer and save plots\n",
    "for n_layers in layers_list:\n",
    "    print(f\"Running {n_layers} layers simulation...\")\n",
    "\n",
    "    position_counts = run_galton_box(n_layers, shots=10000)\n",
    "\n",
    "    # Plot histogram\n",
    "    plt.figure(figsize=(8, 5))\n",
    "    plt.bar(position_counts.keys(), position_counts.values(), color='skyblue', alpha=0.7, label='Simulation')\n",
    "\n",
    "    # Binomial theory\n",
    "    x = np.arange(0, n_layers + 1)\n",
    "    theory = binom.pmf(x, n_layers, 0.5) * 10000\n",
    "    plt.plot(x, theory, 'ro-', label='Binomial Theory')\n",
    "\n",
    "    plt.xlabel('Number of \"Right\" Moves')\n",
    "    plt.ylabel('Counts')\n",
    "    plt.title(f'Classical Galton Box: {n_layers} Layers')\n",
    "    plt.legend()\n",
    "\n",
    "    # Save the plot to './results' relative to current file\n",
    "    filename = f\"{output_folder}/galton_box_{n_layers}_layers.png\"\n",
    "    plt.savefig(filename)\n",
    "    plt.close()  # Prevent memory issues in loop\n",
    "\n",
    "    print(f\"Saved plot: {filename}\")\n"
   ]
  }
 ],
 "metadata": {
  "kernelspec": {
   "display_name": "qc_env",
   "language": "python",
   "name": "python3"
  },
  "language_info": {
   "codemirror_mode": {
    "name": "ipython",
    "version": 3
   },
   "file_extension": ".py",
   "mimetype": "text/x-python",
   "name": "python",
   "nbconvert_exporter": "python",
   "pygments_lexer": "ipython3",
   "version": "3.13.3"
  }
 },
 "nbformat": 4,
 "nbformat_minor": 5
}
